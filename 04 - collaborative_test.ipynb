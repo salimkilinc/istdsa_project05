{
 "cells": [
  {
   "cell_type": "markdown",
   "id": "b4036b5c",
   "metadata": {},
   "source": [
    "# Testing Collaborative Filtering Recommender System"
   ]
  },
  {
   "cell_type": "code",
   "execution_count": 1,
   "id": "f947e605",
   "metadata": {},
   "outputs": [],
   "source": [
    "import pandas as pd\n",
    "import numpy as np\n",
    "import joblib\n",
    "from IPython.display import HTML"
   ]
  },
  {
   "cell_type": "code",
   "execution_count": 2,
   "id": "e5cf9c5a",
   "metadata": {},
   "outputs": [],
   "source": [
    "cosine_sim2_loaded, dist_euc_loaded, df_2_loaded = joblib.load('collaborative_recommender_model.pkl')"
   ]
  },
  {
   "cell_type": "code",
   "execution_count": 3,
   "id": "262335a0",
   "metadata": {},
   "outputs": [],
   "source": [
    "def find_similar_wines_combined(wines, count=10):\n",
    "    wines_cosine = [wine for wine in wines if wine in cosine_sim2_loaded.columns]\n",
    "    wines_summed_cosine = cosine_sim2_loaded[wines_cosine].apply(lambda row: np.sum(row), axis=1)\n",
    "    wines_summed_cosine = wines_summed_cosine.sort_values(ascending=False)\n",
    "    ranked_wines_cosine = wines_summed_cosine.index[wines_summed_cosine.index.isin(wines_cosine) == False]\n",
    "    ranked_wines_cosine = ranked_wines_cosine.tolist()\n",
    "    ranked_wines_cosine = ranked_wines_cosine[:count]\n",
    "\n",
    "    wines_euclidean = [wine for wine in wines if wine in dist_euc_loaded.columns]\n",
    "    wines_summed_euclidean = dist_euc_loaded[wines_euclidean].apply(lambda row: np.sum(row), axis=1)\n",
    "    wines_summed_euclidean = wines_summed_euclidean.sort_values()\n",
    "    ranked_wines_euclidean = wines_summed_euclidean.index[wines_summed_euclidean.index.isin(wines_euclidean) == False]\n",
    "    ranked_wines_euclidean = ranked_wines_euclidean.tolist()\n",
    "    ranked_wines_euclidean = ranked_wines_euclidean[:count]\n",
    "\n",
    "    combined_ranking = {}\n",
    "    for i, wine in enumerate(ranked_wines_cosine):\n",
    "        combined_ranking[wine] = combined_ranking.get(wine, 0) + i\n",
    "\n",
    "    for i, wine in enumerate(ranked_wines_euclidean):\n",
    "        combined_ranking[wine] = combined_ranking.get(wine, 0) + i\n",
    "\n",
    "    sorted_combined_ranking = sorted(combined_ranking.items(), key=lambda x: x[1])\n",
    "\n",
    "    top_10_wine_indices = [df_2_loaded.index[df_2_loaded['WineName'] == wine].tolist()[0] for wine, _ in sorted_combined_ranking[:count]]\n",
    "    top_10_wines = df_2_loaded.loc[top_10_wine_indices, ['WineName', 'Website']].copy()\n",
    "\n",
    "    top_10_wines['Website'] = top_10_wines['Website'].apply(lambda x: f'<a href=\"{x}\" target=\"_blank\">{x}</a>')\n",
    "\n",
    "    display(HTML(top_10_wines.to_html(escape=False, index=False)))"
   ]
  },
  {
   "cell_type": "code",
   "execution_count": 4,
   "id": "291ed4a8",
   "metadata": {},
   "outputs": [
    {
     "data": {
      "text/html": [
       "<table border=\"1\" class=\"dataframe\">\n",
       "  <thead>\n",
       "    <tr style=\"text-align: right;\">\n",
       "      <th>WineName</th>\n",
       "      <th>Website</th>\n",
       "    </tr>\n",
       "  </thead>\n",
       "  <tbody>\n",
       "    <tr>\n",
       "      <td>STORIA Grappa Merlot</td>\n",
       "      <td><a href=\"casavalduga.com.br\" target=\"_blank\">casavalduga.com.br</a></td>\n",
       "    </tr>\n",
       "    <tr>\n",
       "      <td>Cave Cabernet Sauvignon</td>\n",
       "      <td><a href=\"luizargenta.com.br\" target=\"_blank\">luizargenta.com.br</a></td>\n",
       "    </tr>\n",
       "    <tr>\n",
       "      <td>Garnacha Rosé</td>\n",
       "      <td><a href=\"tesco.com\" target=\"_blank\">tesco.com</a></td>\n",
       "    </tr>\n",
       "    <tr>\n",
       "      <td>A Rosé Is A Rosé Is A Rosé</td>\n",
       "      <td><a href=\"luigibosca.com.ar\" target=\"_blank\">luigibosca.com.ar</a></td>\n",
       "    </tr>\n",
       "    <tr>\n",
       "      <td>Grüner Veltliner Alte Reben</td>\n",
       "      <td><a href=\"urbanihof.at\" target=\"_blank\">urbanihof.at</a></td>\n",
       "    </tr>\n",
       "    <tr>\n",
       "      <td>Perlé Nero</td>\n",
       "      <td><a href=\"cantineferrari.it\" target=\"_blank\">cantineferrari.it</a></td>\n",
       "    </tr>\n",
       "    <tr>\n",
       "      <td>Fragolino</td>\n",
       "      <td><a href=\"bautistamarti.com\" target=\"_blank\">bautistamarti.com</a></td>\n",
       "    </tr>\n",
       "    <tr>\n",
       "      <td>Reserva Chardonnay</td>\n",
       "      <td><a href=\"fabremontmayou.com\" target=\"_blank\">fabremontmayou.com</a></td>\n",
       "    </tr>\n",
       "    <tr>\n",
       "      <td>Trollinger Lemberger Trocken</td>\n",
       "      <td><a href=\"rolf-willy.de\" target=\"_blank\">rolf-willy.de</a></td>\n",
       "    </tr>\n",
       "    <tr>\n",
       "      <td>Colheita Tardia Malvasia Bianca</td>\n",
       "      <td><a href=\"vinicolaaurora.com.br\" target=\"_blank\">vinicolaaurora.com.br</a></td>\n",
       "    </tr>\n",
       "  </tbody>\n",
       "</table>"
      ],
      "text/plain": [
       "<IPython.core.display.HTML object>"
      ]
     },
     "metadata": {},
     "output_type": "display_data"
    }
   ],
   "source": [
    "find_similar_wines_combined(['Vecchia Grappa Moscato'], 10)"
   ]
  }
 ],
 "metadata": {
  "kernelspec": {
   "display_name": "Python 3 (ipykernel)",
   "language": "python",
   "name": "python3"
  },
  "language_info": {
   "codemirror_mode": {
    "name": "ipython",
    "version": 3
   },
   "file_extension": ".py",
   "mimetype": "text/x-python",
   "name": "python",
   "nbconvert_exporter": "python",
   "pygments_lexer": "ipython3",
   "version": "3.11.4"
  }
 },
 "nbformat": 4,
 "nbformat_minor": 5
}
