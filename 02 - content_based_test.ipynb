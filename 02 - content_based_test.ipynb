{
 "cells": [
  {
   "cell_type": "markdown",
   "id": "22d825c3",
   "metadata": {},
   "source": [
    "# Testing Content-Based Filtering Recommender System"
   ]
  },
  {
   "cell_type": "code",
   "execution_count": 1,
   "id": "791dc97c",
   "metadata": {},
   "outputs": [],
   "source": [
    "import pandas as pd\n",
    "import joblib\n",
    "from IPython.display import HTML"
   ]
  },
  {
   "cell_type": "code",
   "execution_count": 2,
   "id": "b89468bd",
   "metadata": {},
   "outputs": [],
   "source": [
    "cosine_sim_loaded, df_loaded = joblib.load('content_based_recommender_model.pkl')"
   ]
  },
  {
   "cell_type": "code",
   "execution_count": 3,
   "id": "c370d464",
   "metadata": {},
   "outputs": [],
   "source": [
    "def get_recommendations(WineName):\n",
    "    idx = df_loaded.index[df_loaded['WineName'] == WineName].tolist()[0]\n",
    "    sim_scores = list(enumerate(cosine_sim_loaded[idx]))\n",
    "    sim_scores = sorted(sim_scores, key=lambda x: x[1], reverse=True)\n",
    "    sim_scores = sim_scores[1:11]\n",
    "    wine_indices = [i[0] for i in sim_scores]\n",
    "    \n",
    "    recommendations = df_loaded.loc[wine_indices, ['WineName', 'Website']].copy()\n",
    "    recommendations['Website'] = recommendations['Website'].apply(lambda x: f'<a href=\"{x}\" target=\"_blank\">{x}</a>')\n",
    "    \n",
    "    display(HTML(recommendations.to_html(escape=False, index=False)))"
   ]
  },
  {
   "cell_type": "code",
   "execution_count": 4,
   "id": "9bbb7ec2",
   "metadata": {},
   "outputs": [
    {
     "data": {
      "text/html": [
       "<table border=\"1\" class=\"dataframe\">\n",
       "  <thead>\n",
       "    <tr style=\"text-align: right;\">\n",
       "      <th>WineName</th>\n",
       "      <th>Website</th>\n",
       "    </tr>\n",
       "  </thead>\n",
       "  <tbody>\n",
       "    <tr>\n",
       "      <td>Colheita Tardia Malvasia Moscato</td>\n",
       "      <td><a href=\"vinicolaaurora.com.br\" target=\"_blank\">vinicolaaurora.com.br</a></td>\n",
       "    </tr>\n",
       "    <tr>\n",
       "      <td>Moscatel</td>\n",
       "      <td><a href=\"salton.com.br\" target=\"_blank\">salton.com.br</a></td>\n",
       "    </tr>\n",
       "    <tr>\n",
       "      <td>Moscato d Asti</td>\n",
       "      <td><a href=\"manfredicantine.it\" target=\"_blank\">manfredicantine.it</a></td>\n",
       "    </tr>\n",
       "    <tr>\n",
       "      <td>Moscato</td>\n",
       "      <td><a href=\"terradorowinery.com\" target=\"_blank\">terradorowinery.com</a></td>\n",
       "    </tr>\n",
       "    <tr>\n",
       "      <td>Dulcis Moscato d Asti</td>\n",
       "      <td><a href=\"sansilvestrovini.com\" target=\"_blank\">sansilvestrovini.com</a></td>\n",
       "    </tr>\n",
       "    <tr>\n",
       "      <td>Espumante Moscatel</td>\n",
       "      <td><a href=\"vinicolaperini.com.br\" target=\"_blank\">vinicolaperini.com.br</a></td>\n",
       "    </tr>\n",
       "    <tr>\n",
       "      <td>Moncalvina Moscato d Asti  Canelli</td>\n",
       "      <td><a href=\"coppo.it\" target=\"_blank\">coppo.it</a></td>\n",
       "    </tr>\n",
       "    <tr>\n",
       "      <td>101 Moscato d Asti</td>\n",
       "      <td><a href=\"cadelbaio.com\" target=\"_blank\">cadelbaio.com</a></td>\n",
       "    </tr>\n",
       "    <tr>\n",
       "      <td>Aquarela Moscatel Espumante</td>\n",
       "      <td><a href=\"vinicolaperini.com.br\" target=\"_blank\">vinicolaperini.com.br</a></td>\n",
       "    </tr>\n",
       "    <tr>\n",
       "      <td>Colheita Tardia Malvasia Bianca</td>\n",
       "      <td><a href=\"vinicolaaurora.com.br\" target=\"_blank\">vinicolaaurora.com.br</a></td>\n",
       "    </tr>\n",
       "  </tbody>\n",
       "</table>"
      ],
      "text/plain": [
       "<IPython.core.display.HTML object>"
      ]
     },
     "metadata": {},
     "output_type": "display_data"
    }
   ],
   "source": [
    "get_recommendations('Vecchia Grappa Moscato')"
   ]
  }
 ],
 "metadata": {
  "kernelspec": {
   "display_name": "Python 3 (ipykernel)",
   "language": "python",
   "name": "python3"
  },
  "language_info": {
   "codemirror_mode": {
    "name": "ipython",
    "version": 3
   },
   "file_extension": ".py",
   "mimetype": "text/x-python",
   "name": "python",
   "nbconvert_exporter": "python",
   "pygments_lexer": "ipython3",
   "version": "3.11.4"
  }
 },
 "nbformat": 4,
 "nbformat_minor": 5
}
